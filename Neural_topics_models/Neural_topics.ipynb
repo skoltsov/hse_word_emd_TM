{
 "cells": [
  {
   "cell_type": "markdown",
   "metadata": {},
   "source": [
    "# Preprocessing"
   ]
  },
  {
   "cell_type": "code",
   "execution_count": 1,
   "metadata": {},
   "outputs": [],
   "source": [
    "import pandas as pd\n",
    "Lenta = pd.read_csv('lenta.csv', sep=';', header=None).iloc[:,0:2]\n",
    "Lenta = Lenta.rename(columns={0:'Text', 1:'n_words'})"
   ]
  },
  {
   "cell_type": "code",
   "execution_count": 2,
   "metadata": {},
   "outputs": [
    {
     "name": "stdout",
     "output_type": "stream",
     "text": [
      "C:\\Users\\toxas\\Neural_Topic_Models\n"
     ]
    }
   ],
   "source": [
    "%cd Neural_Topic_Models"
   ]
  },
  {
   "cell_type": "code",
   "execution_count": 3,
   "metadata": {},
   "outputs": [],
   "source": [
    "Lenta[['Text']].to_csv('data/lenta_lines.txt', header=None, index=None, sep='\\t', mode='a') #на серваке есть"
   ]
  },
  {
   "cell_type": "code",
   "execution_count": 4,
   "metadata": {},
   "outputs": [],
   "source": [
    "from gensim.models.coherencemodel import CoherenceModel\n",
    "from utils import calc_topic_coherence as coher\n",
    "from dataset import DocDataset\n",
    "import torch\n",
    "import numpy as np\n",
    "import pandas as pd\n",
    "import pickle\n",
    "import seaborn as sns"
   ]
  },
  {
   "cell_type": "code",
   "execution_count": 6,
   "metadata": {},
   "outputs": [
    {
     "name": "stderr",
     "output_type": "stream",
     "text": [
      "100%|███████████████████████████████████████████████████████████████████████████| 1357/1357 [00:00<00:00, 46382.72it/s]"
     ]
    },
    {
     "name": "stdout",
     "output_type": "stream",
     "text": [
      "Tokenizing ...\n"
     ]
    },
    {
     "name": "stderr",
     "output_type": "stream",
     "text": [
      "\n"
     ]
    },
    {
     "name": "stdout",
     "output_type": "stream",
     "text": [
      "Processed 1357 documents.\n"
     ]
    }
   ],
   "source": [
    "taskname = 'lenta'\n",
    "docSet = DocDataset(taskname,no_below=10,no_above=0.7,rebuild=True,use_tfidf=False)"
   ]
  },
  {
   "cell_type": "markdown",
   "metadata": {},
   "source": [
    "# GSM"
   ]
  },
  {
   "cell_type": "code",
   "execution_count": null,
   "metadata": {},
   "outputs": [
    {
     "name": "stdout",
     "output_type": "stream",
     "text": [
      "^C\n",
      "^C\n",
      "^C\n",
      "^C\n",
      "^C\n",
      "^C\n",
      "^C\n",
      "^C\n",
      "^C\n",
      "^C\n",
      "^C\n",
      "^C\n",
      "^C\n",
      "^C\n",
      "^C\n",
      "^C\n",
      "^C\n",
      "^C\n",
      "^C\n",
      "^C\n",
      "^C\n"
     ]
    },
    {
     "name": "stderr",
     "output_type": "stream",
     "text": [
      "Traceback (most recent call last):\n",
      "  File \"GSM_run.py\", line 16, in <module>\n",
      "    import torch\n",
      "  File \"C:\\Users\\toxas\\anaconda3\\lib\\site-packages\\torch\\__init__.py\", line 117, in <module>\n",
      "    raise err\n",
      "OSError: [WinError 1455] Файл подкачки слишком мал для завершения операции. Error loading \"C:\\Users\\toxas\\anaconda3\\lib\\site-packages\\torch\\lib\\caffe2_detectron_ops_gpu.dll\" or one of its dependencies.\n"
     ]
    },
    {
     "name": "stdout",
     "output_type": "stream",
     "text": [
      "^C\n",
      "^C\n"
     ]
    },
    {
     "name": "stderr",
     "output_type": "stream",
     "text": [
      "Traceback (most recent call last):\n",
      "  File \"GSM_run.py\", line 16, in <module>\n",
      "    import torch\n",
      "  File \"C:\\Users\\toxas\\anaconda3\\lib\\site-packages\\torch\\__init__.py\", line 117, in <module>\n",
      "    raise err\n",
      "OSError: [WinError 1455] Файл подкачки слишком мал для завершения операции. Error loading \"C:\\Users\\toxas\\anaconda3\\lib\\site-packages\\torch\\lib\\caffe2_detectron_ops_gpu.dll\" or one of its dependencies.\n"
     ]
    },
    {
     "name": "stdout",
     "output_type": "stream",
     "text": [
      "^C\n",
      "^C\n"
     ]
    },
    {
     "name": "stderr",
     "output_type": "stream",
     "text": [
      "Traceback (most recent call last):\n",
      "  File \"GSM_run.py\", line 16, in <module>\n",
      "    import torch\n",
      "  File \"C:\\Users\\toxas\\anaconda3\\lib\\site-packages\\torch\\__init__.py\", line 117, in <module>\n",
      "    raise err\n",
      "OSError: [WinError 1455] Файл подкачки слишком мал для завершения операции. Error loading \"C:\\Users\\toxas\\anaconda3\\lib\\site-packages\\torch\\lib\\caffe2_detectron_ops_gpu.dll\" or one of its dependencies.\n"
     ]
    },
    {
     "name": "stdout",
     "output_type": "stream",
     "text": [
      "^C\n"
     ]
    },
    {
     "name": "stderr",
     "output_type": "stream",
     "text": [
      "Traceback (most recent call last):\n",
      "  File \"GSM_run.py\", line 16, in <module>\n",
      "    import torch\n",
      "  File \"C:\\Users\\toxas\\anaconda3\\lib\\site-packages\\torch\\__init__.py\", line 117, in <module>\n",
      "    raise err\n",
      "OSError: [WinError 1455] Файл подкачки слишком мал для завершения операции. Error loading \"C:\\Users\\toxas\\anaconda3\\lib\\site-packages\\torch\\lib\\caffe2_detectron_ops_gpu.dll\" or one of its dependencies.\n"
     ]
    },
    {
     "name": "stdout",
     "output_type": "stream",
     "text": [
      "^C\n"
     ]
    },
    {
     "name": "stderr",
     "output_type": "stream",
     "text": [
      "Traceback (most recent call last):\n",
      "  File \"GSM_run.py\", line 16, in <module>\n",
      "    import torch\n",
      "  File \"C:\\Users\\toxas\\anaconda3\\lib\\site-packages\\torch\\__init__.py\", line 117, in <module>\n",
      "    raise err\n",
      "OSError: [WinError 1455] Файл подкачки слишком мал для завершения операции. Error loading \"C:\\Users\\toxas\\anaconda3\\lib\\site-packages\\torch\\lib\\caffe2_detectron_ops_gpu.dll\" or one of its dependencies.\n"
     ]
    },
    {
     "name": "stdout",
     "output_type": "stream",
     "text": [
      "^C\n",
      "^C\n"
     ]
    },
    {
     "name": "stderr",
     "output_type": "stream",
     "text": [
      "Traceback (most recent call last):\n",
      "  File \"GSM_run.py\", line 16, in <module>\n",
      "    import torch\n",
      "  File \"C:\\Users\\toxas\\anaconda3\\lib\\site-packages\\torch\\__init__.py\", line 117, in <module>\n",
      "    raise err\n",
      "OSError: [WinError 1455] Файл подкачки слишком мал для завершения операции. Error loading \"C:\\Users\\toxas\\anaconda3\\lib\\site-packages\\torch\\lib\\caffe2_detectron_ops_gpu.dll\" or one of its dependencies.\n"
     ]
    },
    {
     "name": "stdout",
     "output_type": "stream",
     "text": [
      "^C\n",
      "^C\n"
     ]
    },
    {
     "name": "stderr",
     "output_type": "stream",
     "text": [
      "Traceback (most recent call last):\n",
      "  File \"GSM_run.py\", line 16, in <module>\n",
      "    import torch\n",
      "  File \"C:\\Users\\toxas\\anaconda3\\lib\\site-packages\\torch\\__init__.py\", line 117, in <module>\n",
      "    raise err\n",
      "OSError: [WinError 1455] Файл подкачки слишком мал для завершения операции. Error loading \"C:\\Users\\toxas\\anaconda3\\lib\\site-packages\\torch\\lib\\caffe2_detectron_ops_gpu.dll\" or one of its dependencies.\n",
      "Traceback (most recent call last):\n",
      "  File \"GSM_run.py\", line 16, in <module>\n",
      "    import torch\n",
      "  File \"C:\\Users\\toxas\\anaconda3\\lib\\site-packages\\torch\\__init__.py\", line 117, in <module>\n",
      "    raise err\n",
      "OSError: [WinError 1455] Файл подкачки слишком мал для завершения операции. Error loading \"C:\\Users\\toxas\\anaconda3\\lib\\site-packages\\torch\\lib\\caffe2_detectron_ops_gpu.dll\" or one of its dependencies.\n",
      "Traceback (most recent call last):\n",
      "  File \"GSM_run.py\", line 16, in <module>\n",
      "    import torch\n",
      "  File \"C:\\Users\\toxas\\anaconda3\\lib\\site-packages\\torch\\__init__.py\", line 117, in <module>\n",
      "    raise err\n",
      "OSError: [WinError 1455] Файл подкачки слишком мал для завершения операции. Error loading \"C:\\Users\\toxas\\anaconda3\\lib\\site-packages\\torch\\lib\\caffe2_detectron_ops_gpu.dll\" or one of its dependencies.\n",
      "Traceback (most recent call last):\n",
      "  File \"GSM_run.py\", line 16, in <module>\n",
      "    import torch\n",
      "  File \"C:\\Users\\toxas\\anaconda3\\lib\\site-packages\\torch\\__init__.py\", line 117, in <module>\n",
      "    raise err\n",
      "OSError: [WinError 1455] Файл подкачки слишком мал для завершения операции. Error loading \"C:\\Users\\toxas\\anaconda3\\lib\\site-packages\\torch\\lib\\caffe2_detectron_ops_gpu.dll\" or one of its dependencies.\n"
     ]
    },
    {
     "name": "stdout",
     "output_type": "stream",
     "text": [
      "^C\n",
      "^C\n",
      "^C\n"
     ]
    },
    {
     "name": "stderr",
     "output_type": "stream",
     "text": [
      "Traceback (most recent call last):\n",
      "  File \"GSM_run.py\", line 16, in <module>\n",
      "    import torch\n",
      "  File \"C:\\Users\\toxas\\anaconda3\\lib\\site-packages\\torch\\__init__.py\", line 117, in <module>\n",
      "    raise err\n",
      "OSError: [WinError 1455] Файл подкачки слишком мал для завершения операции. Error loading \"C:\\Users\\toxas\\anaconda3\\lib\\site-packages\\torch\\lib\\caffe2_detectron_ops_gpu.dll\" or one of its dependencies.\n"
     ]
    }
   ],
   "source": [
    "for topics in range(10,50):\n",
    "    !python3.8 GSM_run.py --taskname {taskname} --n_topic {topics} --num_epochs 1000 --no_above 0.7 --no_below 10 --batch_size 1024"
   ]
  },
  {
   "cell_type": "markdown",
   "metadata": {},
   "source": [
    "# WTM-MMD"
   ]
  },
  {
   "cell_type": "code",
   "execution_count": null,
   "metadata": {},
   "outputs": [],
   "source": [
    "for topics in range(10,50):\n",
    "    !python3.8 WTM_run.py --taskname {taskname} --n_topic {topics} --num_epochs 500 --no_above 0.7 --no_below 10 --dist dirichlet --batch_size 1024"
   ]
  },
  {
   "cell_type": "markdown",
   "metadata": {},
   "source": [
    "# WTM-GMM"
   ]
  },
  {
   "cell_type": "code",
   "execution_count": null,
   "metadata": {},
   "outputs": [],
   "source": [
    "for topics in range(10,50):\n",
    "    !python3.8 WTM_run.py --taskname {taskname} --n_topic {topics} --num_epochs 500 --no_above 0.7 --no_below 10 --batch_size 1024"
   ]
  },
  {
   "cell_type": "markdown",
   "metadata": {},
   "source": [
    "# Renyi и coherence"
   ]
  },
  {
   "cell_type": "code",
   "execution_count": null,
   "metadata": {},
   "outputs": [],
   "source": [
    "#taskname = 'lenta'\n",
    "docSet = DocDataset(taskname,no_below=10,no_above=0.7,rebuild=False,use_tfidf=False)\n",
    "coherence = []\n",
    "renyi = []\n",
    "\n",
    "docs = docSet.docs\n",
    "dictionary = docSet.dictionary\n",
    "\n",
    "model = 'GSM'\n",
    "\n",
    "for topics in range(2,50):\n",
    "    model = torch.load('results/'+ model + '/' + model +'_' + taskname + '_' + str(topics))\n",
    "    topics = model.show_topic_words()\n",
    "    coherence.append(coher(topics, docs, dictionary)[0][0])#coherence\n",
    "    topic_words = model.get_topic_word_dist()\n",
    "    num_top, num_word = topic_words.shape\n",
    "    #расчёт энтропии\n",
    "    thresh = 1/num_word\n",
    "    word_ratio = np.count_nonzero(topic_words>thresh)\n",
    "    sum_prob = topic_words[topic_words>thresh].sum()\n",
    "    Sh = np.log(word_ratio/(num_word*num_top))\n",
    "    En = -np.log(sum_prob/num_top)\n",
    "    Fen = En - Sh*num_top\n",
    "    Renyi = Fen/(1- num_top)\n",
    "    renyi.append(Renyi)\n",
    "    #topic_words = pd.DataFrame(topic_words, columns=[vocab])\n",
    "    #path = 'results/lenta/matrices/'+ emb + '_' + str(topics) + '_train_' + str(train) + '.csv'\n",
    "    #topic_words.to_csv(path)#сохраняем phi\n",
    "with open('results' + model + '/' + model + '_' + taskname + '_renyi.pkl', 'wb') as f:\n",
    "    pickle.dump(renyi, f)\n",
    "with open('results' + model + '/' + model + '_' + taskname + '_coherence.pkl', 'wb') as f:\n",
    "    pickle.dump(coherence, f)"
   ]
  },
  {
   "cell_type": "markdown",
   "metadata": {},
   "source": [
    "# Построение графиков"
   ]
  },
  {
   "cell_type": "code",
   "execution_count": null,
   "metadata": {},
   "outputs": [],
   "source": [
    "import seaborn as sns\n",
    "\n",
    "with open('results' + model + '/' + model + '_' + taskname + '_renyi.pkl', 'rb') as f:\n",
    "    renyi = pickle.load(f)\n",
    "sns.lineplot(np.arange(2,50), renyi)"
   ]
  },
  {
   "cell_type": "code",
   "execution_count": null,
   "metadata": {},
   "outputs": [],
   "source": [
    "with open('results' + model + '/' + model + '_' + taskname + '_coherence.pkl', 'rb') as f:\n",
    "    coherence = pickle.load(f)\n",
    "sns.lineplot(np.arange(2,50), coherence)"
   ]
  },
  {
   "cell_type": "markdown",
   "metadata": {},
   "source": [
    "# Сохранение результатов в один датафрейм"
   ]
  },
  {
   "cell_type": "code",
   "execution_count": null,
   "metadata": {},
   "outputs": [],
   "source": [
    "with open('results/GSM/GSM_lenta_renyi.pkl', 'rb') as f:\n",
    "    renyi_GSM = pickle.load(f)\n",
    "with open('results/WTM-MMD/WTM-MMD_lenta_renyi.pkl', 'rb') as f:\n",
    "    renyi_WTM_MMD = pickle.load(f)\n",
    "with open('results/WTM-GMM/WTM-GMM_lenta_renyi.pkl', 'rb') as f:\n",
    "    renyi_WTM_GMM = pickle.load(f)\n",
    "\n",
    "data = pd.DataFrame({'GSM' : renyi_GSM, 'WTM-MMD' : renyi_WTM_MMD,\n",
    "             'WTM-GMM' : renyi_WTM_GMM} )\n",
    "\n",
    "#data.to_csv('lenta_NN.csv')"
   ]
  }
 ],
 "metadata": {
  "kernelspec": {
   "display_name": "Python 3",
   "language": "python",
   "name": "python3"
  },
  "language_info": {
   "codemirror_mode": {
    "name": "ipython",
    "version": 3
   },
   "file_extension": ".py",
   "mimetype": "text/x-python",
   "name": "python",
   "nbconvert_exporter": "python",
   "pygments_lexer": "ipython3",
   "version": "3.8.5"
  }
 },
 "nbformat": 4,
 "nbformat_minor": 4
}
